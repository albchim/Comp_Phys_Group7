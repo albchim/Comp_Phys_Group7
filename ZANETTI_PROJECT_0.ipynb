{
 "cells": [
  {
   "cell_type": "markdown",
   "metadata": {},
   "source": [
    "## Description\n",
    "The production of a high brillance muon beam is one of the most important challenge for the future of Particle Physics. <br>\n",
    "A particularly interesting idea consists of shooting high energy positrons on a target, aiming at the production of muons by means of the process: <br><br> $$e^+ + e^- \\rightarrow \\mu^+ + \\mu^-$$ <br>\n",
    "To mimize the divergence of the resulting \"muon beam\", the positrons energy is chosen so that the reaction occurs close to threshold (assuming the electrons in the target to be at rest). <br> The main goal of this project is to produce a Monte Carlo simulation of such a process."
   ]
  },
  {
   "cell_type": "markdown",
   "metadata": {},
   "source": [
    "\n",
    "<img src=\"img/Scattering.png\" width=\"600\">"
   ]
  },
  {
   "cell_type": "markdown",
   "metadata": {},
   "source": [
    "1. Compute the process leading-order cross section, $\\sigma(\\theta; \\sqrt{s})$, as a function of the scattering angle $\\theta$ and with the center of mass energy $\\sqrt{s}$ as a parameter. <br> Start by computing it in the center of mass system. N.B.: textbooks reports such cross section in the relativistic limit, i.e. for $\\sqrt{s}\\gg m_\\mu$, which is clearly not the case here ($\\sqrt{s}\\sim 2m_\\mu$)"
   ]
  },
  {
   "cell_type": "markdown",
   "metadata": {},
   "source": [
    "***\n",
    "\\begin{equation}\\label{eq:}\n",
    "\\left ( \\frac{d\\sigma}{d\\Omega}\\right)_{CoM}= \\frac{\\alpha^2}{16E^4}\\left( \\frac{p'}{E}\\right)\\left(E^2+m_l^2+p'^2\\cos^2\\theta\\right)\n",
    "\\end{equation}\n",
    "<br>\n",
    "Changing variables: \n",
    "1. $s=\\left (p_1+p_2\\right)^2=4E^2$ \n",
    "<br>\n",
    "<br>\n",
    "2. $p'=\\sqrt{\\frac{s^2}{4}-m_{\\mu}^2}$\n",
    "\n",
    "$$\n",
    "\\left ( \\frac{d\\sigma}{d\\Omega}\\right)_{CoM}= \\frac{\\alpha^2}{4} \\sqrt{\\frac{s-4m_{\\mu}^2}{s^5}} \\left[ 4m_{\\mu}^2+s+\\left (s-4m_{\\mu}^2\\right)cos^2\\theta \\right]\n",
    "$$\n",
    "or\n",
    "$$\n",
    "\\left ( \\frac{d\\sigma}{d\\Omega}\\right)_{CoM}= \\frac{\\alpha^2}{4s} \\sqrt{1- \\frac{4 m^2_{\\mu}}{s} } \\left [ \\left (1 + \\frac{4m_{\\mu}^2}{s}\\right) + \\left (1 - \\frac{4m_{\\mu}^2}{s}\\right)cos^2\\theta \\right] \n",
    "$$\n",
    "<br>\n",
    "<br>\n",
    "Let's tidy up the units of measurement.\n",
    "<br>\n",
    "<br>\n",
    "\\begin{equation*}\n",
    "\\left ( \\frac{d\\sigma}{d\\Omega}\\right)_{CoM}= \\frac{\\alpha^2}{4s} \\sqrt{1- \\frac{4 m^2_{\\mu}c^4}{s} } \\left [ \\left (1 + \\frac{4m_{\\mu}^2c^4}{s}\\right) + \\left (1 - \\frac{4m_{\\mu}^2c^4}{s}\\right)cos^2\\theta \\right] \n",
    "\\end{equation*}\n",
    "<br>\n",
    "<br>\n",
    "\\begin{equation*}\n",
    "\\left [\\left ( \\frac{d\\sigma}{d\\Omega}\\right)_{CoM}\\right]= \\frac{1}{eV^2} \\,\\,\\,\\,\\,\\,\\,\\ [h^2 c^2]= eV^2 m^2\n",
    "\\end{equation*}\n",
    "<br>\n",
    "<br>\n",
    "\\begin{equation*}\n",
    "\\left ( \\frac{d\\sigma}{d\\theta}\\right)_{CoM}= \\frac{\\alpha^2\\hbar^2 c^2\\pi}{2s} \\sqrt{1- \\frac{4 m^2_{\\mu}c^2}{s} } \\left [ \\left (1 + \\frac{4m_{\\mu}^2c^2}{s}\\right) + \\left (1 - \\frac{4m_{\\mu}^2c^2}{s}\\right)cos^2\\theta \\right] \n",
    "\\end{equation*}"
   ]
  },
  {
   "cell_type": "code",
   "execution_count": 4,
   "metadata": {},
   "outputs": [
    {
     "data": {
      "text/plain": [
       "u'%.4f'"
      ]
     },
     "execution_count": 4,
     "metadata": {},
     "output_type": "execute_result"
    }
   ],
   "source": [
    "import numpy as np\n",
    "import math as m\n",
    "import pandas as pd\n",
    "from scipy import linalg as alg\n",
    "from matplotlib import pyplot as plt\n",
    "%precision 4"
   ]
  },
  {
   "cell_type": "markdown",
   "metadata": {},
   "source": [
    "## Costants definition "
   ]
  },
  {
   "cell_type": "code",
   "execution_count": 2,
   "metadata": {},
   "outputs": [],
   "source": [
    "alpha=0.0072973525664\n",
    "hbar=6.582119514*10**(-16)\n",
    "c=299792458\n",
    "s= 0.212*10**(-9)\n",
    "mmu=0.1056583745**(-9)"
   ]
  },
  {
   "cell_type": "code",
   "execution_count": 7,
   "metadata": {},
   "outputs": [],
   "source": [
    "def cross_section(theta,s):\n",
    "    (((alpha*hbar*c)**2*np.pi)/(2*s))*m.sqrt(1-((2*mmu*c)**2/s))*\n",
    "angles=np.linspace(0,90,90)*(np.pi/180)\n",
    "plt.plot()"
   ]
  },
  {
   "cell_type": "markdown",
   "metadata": {},
   "source": [
    "2. Compute and display the angle and momentum components distributions of the emerging muon pairs\n",
    "3. Boost muons four-momenta distributions in the laboratory frame. Display them\n",
    "4. Write a Monte Carlo simulation that generates scattering events following the distrubtions that you find analytically.\n",
    "5. About $N=10^5$ (or more) of such events should be produced and listed as rows in a file with 6 columns representing the muon pair tri-momenta\n",
    "6. Assume a $6$ cm thick Beryllium block is used as target and a rate of positron on target of $10^6$ Hz. Compute the rescaling factor (weight) you need to apply to the $N$ simulated events such that they represent the statistics that would be gathered in a week of countinuous operations.\n",
    "7. Repeat what done so far simulating now the actual transverse shape and energy spread of the beam: for the former assume a flat distribution in a circle of radius $r=1$ cm and for the latter a gaussian distribution centered at the nominal beam energy and a width of $0.5$ GeV.\n",
    "8. Assume a $2$ meter long, $1.7$ Tesla dipole magnet is placed right after the target. Display the occupancy of the muon hits on a tracking detector placed at 6 meters after the dipole."
   ]
  },
  {
   "cell_type": "code",
   "execution_count": null,
   "metadata": {},
   "outputs": [],
   "source": []
  }
 ],
 "metadata": {
  "kernelspec": {
   "display_name": "Python 2",
   "language": "python",
   "name": "python2"
  },
  "language_info": {
   "codemirror_mode": {
    "name": "ipython",
    "version": 2
   },
   "file_extension": ".py",
   "mimetype": "text/x-python",
   "name": "python",
   "nbconvert_exporter": "python",
   "pygments_lexer": "ipython2",
   "version": "2.7.15"
  },
  "latex_envs": {
   "LaTeX_envs_menu_present": true,
   "autoclose": false,
   "autocomplete": true,
   "bibliofile": "biblio.bib",
   "cite_by": "apalike",
   "current_citInitial": 1,
   "eqLabelWithNumbers": true,
   "eqNumInitial": 1,
   "hotkeys": {
    "equation": "Ctrl-E",
    "itemize": "Ctrl-I"
   },
   "labels_anchors": false,
   "latex_user_defs": false,
   "report_style_numbering": false,
   "user_envs_cfg": false
  }
 },
 "nbformat": 4,
 "nbformat_minor": 2
}
